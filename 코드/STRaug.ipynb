{
 "cells": [
  {
   "cell_type": "code",
   "execution_count": 2,
   "id": "8b338f97",
   "metadata": {},
   "outputs": [],
   "source": [
    "import pandas as pd\n",
    "from PIL import Image\n",
    "import os\n",
    "from tqdm import tqdm\n",
    "\n",
    "from straug.noise import GaussianNoise\n",
    "# from straug.blur import GaussianBlur\n",
    "# GaussianBlur는 에러 문제로 직접 Class 정의.\n",
    "\n",
    "from straug.camera import Contrast, Brightness, Pixelate"
   ]
  },
  {
   "cell_type": "code",
   "execution_count": 3,
   "id": "b09c0002",
   "metadata": {},
   "outputs": [
    {
     "data": {
      "text/plain": [
       "'/home/cuai5th/CUAI_2022/KWAKsumin/어그멘테이션'"
      ]
     },
     "execution_count": 3,
     "metadata": {},
     "output_type": "execute_result"
    }
   ],
   "source": [
    "os.getcwd()"
   ]
  },
  {
   "cell_type": "code",
   "execution_count": 4,
   "id": "0cf572a6",
   "metadata": {
    "scrolled": true
   },
   "outputs": [
    {
     "data": {
      "text/html": [
       "<div>\n",
       "<style scoped>\n",
       "    .dataframe tbody tr th:only-of-type {\n",
       "        vertical-align: middle;\n",
       "    }\n",
       "\n",
       "    .dataframe tbody tr th {\n",
       "        vertical-align: top;\n",
       "    }\n",
       "\n",
       "    .dataframe thead th {\n",
       "        text-align: right;\n",
       "    }\n",
       "</style>\n",
       "<table border=\"1\" class=\"dataframe\">\n",
       "  <thead>\n",
       "    <tr style=\"text-align: right;\">\n",
       "      <th></th>\n",
       "      <th>img_path</th>\n",
       "      <th>label</th>\n",
       "    </tr>\n",
       "  </thead>\n",
       "  <tbody>\n",
       "    <tr>\n",
       "      <th>0</th>\n",
       "      <td>images/image_031251.png</td>\n",
       "      <td>넣</td>\n",
       "    </tr>\n",
       "    <tr>\n",
       "      <th>1</th>\n",
       "      <td>images/image_248644.png</td>\n",
       "      <td>그</td>\n",
       "    </tr>\n",
       "    <tr>\n",
       "      <th>2</th>\n",
       "      <td>images/image_228006.png</td>\n",
       "      <td>전세</td>\n",
       "    </tr>\n",
       "    <tr>\n",
       "      <th>3</th>\n",
       "      <td>images/image_215487.png</td>\n",
       "      <td>위쪽</td>\n",
       "    </tr>\n",
       "    <tr>\n",
       "      <th>4</th>\n",
       "      <td>images/image_222170.png</td>\n",
       "      <td>장국수</td>\n",
       "    </tr>\n",
       "    <tr>\n",
       "      <th>...</th>\n",
       "      <td>...</td>\n",
       "      <td>...</td>\n",
       "    </tr>\n",
       "    <tr>\n",
       "      <th>162939</th>\n",
       "      <td>images/image_200650.png</td>\n",
       "      <td>쑤</td>\n",
       "    </tr>\n",
       "    <tr>\n",
       "      <th>162940</th>\n",
       "      <td>images/image_207997.png</td>\n",
       "      <td>늣</td>\n",
       "    </tr>\n",
       "    <tr>\n",
       "      <th>162941</th>\n",
       "      <td>images/image_270139.png</td>\n",
       "      <td>섄분</td>\n",
       "    </tr>\n",
       "    <tr>\n",
       "      <th>162942</th>\n",
       "      <td>images/image_239246.png</td>\n",
       "      <td>멱</td>\n",
       "    </tr>\n",
       "    <tr>\n",
       "      <th>162943</th>\n",
       "      <td>images/image_063184.png</td>\n",
       "      <td>쌍둥이</td>\n",
       "    </tr>\n",
       "  </tbody>\n",
       "</table>\n",
       "<p>162944 rows × 2 columns</p>\n",
       "</div>"
      ],
      "text/plain": [
       "                       img_path label\n",
       "0       images/image_031251.png     넣\n",
       "1       images/image_248644.png     그\n",
       "2       images/image_228006.png    전세\n",
       "3       images/image_215487.png    위쪽\n",
       "4       images/image_222170.png   장국수\n",
       "...                         ...   ...\n",
       "162939  images/image_200650.png     쑤\n",
       "162940  images/image_207997.png     늣\n",
       "162941  images/image_270139.png    섄분\n",
       "162942  images/image_239246.png     멱\n",
       "162943  images/image_063184.png   쌍둥이\n",
       "\n",
       "[162944 rows x 2 columns]"
      ]
     },
     "execution_count": 4,
     "metadata": {},
     "output_type": "execute_result"
    }
   ],
   "source": [
    "# 파일 불러오기\n",
    "df = pd.read_csv(\"/home/cuai5th/CUAI_2022/KWAKsumin/OCR/data_transformed/train_aug/gt.txt\", sep='\\t', header=None)\n",
    "df.columns = ['img_path', 'label']\n",
    "df"
   ]
  },
  {
   "cell_type": "code",
   "execution_count": 5,
   "id": "d6f0b5a7",
   "metadata": {
    "scrolled": false
   },
   "outputs": [
    {
     "name": "stdout",
     "output_type": "stream",
     "text": [
      "<class 'pandas.core.frame.DataFrame'>\n",
      "Int64Index: 82944 entries, 0 to 162940\n",
      "Data columns (total 2 columns):\n",
      " #   Column    Non-Null Count  Dtype \n",
      "---  ------    --------------  ----- \n",
      " 0   img_path  82944 non-null  object\n",
      " 1   label     82944 non-null  object\n",
      "dtypes: object(2)\n",
      "memory usage: 1.9+ MB\n"
     ]
    }
   ],
   "source": [
    "df_no = df.sample(n=16000)\n",
    "df_no_index = df_no.index.to_list()\n",
    "df = df.drop(df_no_index)\n",
    "\n",
    "df_br = df.sample(n=16000)\n",
    "df_br_index = df_br.index.to_list()\n",
    "df = df.drop(df_br_index)\n",
    "\n",
    "df_bl = df.sample(n=16000)\n",
    "df_bl_index = df_bl.index.to_list()\n",
    "df = df.drop(df_bl_index)\n",
    "\n",
    "df_co = df.sample(n=16000)\n",
    "df_co_index = df_co.index.to_list()\n",
    "df = df.drop(df_co_index)\n",
    "\n",
    "df_pi = df.sample(n=16000)\n",
    "df_pi_index = df_pi.index.to_list()\n",
    "df = df.drop(df_pi_index)\n",
    "\n",
    "df.info()"
   ]
  },
  {
   "cell_type": "code",
   "execution_count": 6,
   "id": "80173365",
   "metadata": {},
   "outputs": [
    {
     "data": {
      "text/html": [
       "<div>\n",
       "<style scoped>\n",
       "    .dataframe tbody tr th:only-of-type {\n",
       "        vertical-align: middle;\n",
       "    }\n",
       "\n",
       "    .dataframe tbody tr th {\n",
       "        vertical-align: top;\n",
       "    }\n",
       "\n",
       "    .dataframe thead th {\n",
       "        text-align: right;\n",
       "    }\n",
       "</style>\n",
       "<table border=\"1\" class=\"dataframe\">\n",
       "  <thead>\n",
       "    <tr style=\"text-align: right;\">\n",
       "      <th></th>\n",
       "      <th>img_path</th>\n",
       "      <th>label</th>\n",
       "    </tr>\n",
       "  </thead>\n",
       "  <tbody>\n",
       "    <tr>\n",
       "      <th>0</th>\n",
       "      <td>images/image_031251.png</td>\n",
       "      <td>넣</td>\n",
       "    </tr>\n",
       "    <tr>\n",
       "      <th>1</th>\n",
       "      <td>images/image_215487.png</td>\n",
       "      <td>위쪽</td>\n",
       "    </tr>\n",
       "    <tr>\n",
       "      <th>2</th>\n",
       "      <td>images/image_222170.png</td>\n",
       "      <td>장국수</td>\n",
       "    </tr>\n",
       "    <tr>\n",
       "      <th>3</th>\n",
       "      <td>images/image_274214.png</td>\n",
       "      <td>추천하다</td>\n",
       "    </tr>\n",
       "    <tr>\n",
       "      <th>4</th>\n",
       "      <td>images/image_211616.png</td>\n",
       "      <td>자</td>\n",
       "    </tr>\n",
       "    <tr>\n",
       "      <th>...</th>\n",
       "      <td>...</td>\n",
       "      <td>...</td>\n",
       "    </tr>\n",
       "    <tr>\n",
       "      <th>82939</th>\n",
       "      <td>images/image_208530.png</td>\n",
       "      <td>이사</td>\n",
       "    </tr>\n",
       "    <tr>\n",
       "      <th>82940</th>\n",
       "      <td>images/image_201326.png</td>\n",
       "      <td>시타다</td>\n",
       "    </tr>\n",
       "    <tr>\n",
       "      <th>82941</th>\n",
       "      <td>images/image_225317.png</td>\n",
       "      <td>짜다</td>\n",
       "    </tr>\n",
       "    <tr>\n",
       "      <th>82942</th>\n",
       "      <td>images/image_200650.png</td>\n",
       "      <td>쑤</td>\n",
       "    </tr>\n",
       "    <tr>\n",
       "      <th>82943</th>\n",
       "      <td>images/image_207997.png</td>\n",
       "      <td>늣</td>\n",
       "    </tr>\n",
       "  </tbody>\n",
       "</table>\n",
       "<p>82944 rows × 2 columns</p>\n",
       "</div>"
      ],
      "text/plain": [
       "                      img_path label\n",
       "0      images/image_031251.png     넣\n",
       "1      images/image_215487.png    위쪽\n",
       "2      images/image_222170.png   장국수\n",
       "3      images/image_274214.png  추천하다\n",
       "4      images/image_211616.png     자\n",
       "...                        ...   ...\n",
       "82939  images/image_208530.png    이사\n",
       "82940  images/image_201326.png   시타다\n",
       "82941  images/image_225317.png    짜다\n",
       "82942  images/image_200650.png     쑤\n",
       "82943  images/image_207997.png     늣\n",
       "\n",
       "[82944 rows x 2 columns]"
      ]
     },
     "execution_count": 6,
     "metadata": {},
     "output_type": "execute_result"
    }
   ],
   "source": [
    "# 인덱스 초기화\n",
    "df = df.reset_index(drop=True)\n",
    "df"
   ]
  },
  {
   "cell_type": "markdown",
   "id": "75b4d269",
   "metadata": {},
   "source": [
    "# GaussianNoise"
   ]
  },
  {
   "cell_type": "code",
   "execution_count": 7,
   "id": "fb8e043b",
   "metadata": {},
   "outputs": [
    {
     "name": "stderr",
     "output_type": "stream",
     "text": [
      "100%|████████████████████████████████████████████████████████████████████████████| 16000/16000 [02:38<00:00, 100.91it/s]\n"
     ]
    }
   ],
   "source": [
    "for i in tqdm(range(len(df_no))):\n",
    "    \n",
    "    # 파일 불러오기\n",
    "    img = Image.open('/home/cuai5th/CUAI_2022/KWAKsumin/OCR/data_transformed/train_aug/' + df_no['img_path'].iloc[i])\n",
    "    \n",
    "    # augmentation\n",
    "    img = GaussianNoise()(img) \n",
    "    \n",
    "    # 파일 저장\n",
    "    file_name = 'image_' + str(i + 300000 + 16000*0) + '.png'\n",
    "    img.save('/home/cuai5th/CUAI_2022/KWAKsumin/OCR/data_transformed/train_aug/images/' + file_name, 'png')\n",
    "    \n",
    "    # df에 추가\n",
    "    file_path = 'images/' + file_name\n",
    "    df.loc[len(df) + 1] = [file_path, df_no.iloc[i][1]]"
   ]
  },
  {
   "cell_type": "code",
   "execution_count": 8,
   "id": "af2746ae",
   "metadata": {
    "scrolled": false
   },
   "outputs": [
    {
     "data": {
      "image/png": "[encoded data removed]",
      "text/plain": [
       "<PIL.PngImagePlugin.PngImageFile image mode=RGB size=151x64>"
      ]
     },
     "execution_count": 8,
     "metadata": {},
     "output_type": "execute_result"
    }
   ],
   "source": [
    "Image.open('/home/cuai5th/CUAI_2022/KWAKsumin/OCR/data_transformed/train_aug/images/image_307999.png')"
   ]
  },
  {
   "cell_type": "markdown",
   "id": "694401b0",
   "metadata": {},
   "source": [
    "# Contrast"
   ]
  },
  {
   "cell_type": "code",
   "execution_count": 9,
   "id": "366d5d18",
   "metadata": {},
   "outputs": [
    {
     "name": "stderr",
     "output_type": "stream",
     "text": [
      "100%|█████████████████████████████████████████████████████████████████████████████| 16000/16000 [02:56<00:00, 90.89it/s]\n"
     ]
    }
   ],
   "source": [
    "for i in tqdm(range(len(df_co))):\n",
    "    \n",
    "    # 파일 불러오기\n",
    "    img = Image.open('/home/cuai5th/CUAI_2022/KWAKsumin/OCR/data_transformed/train_aug/' + df_co['img_path'].iloc[i])\n",
    "    \n",
    "    # augmentation\n",
    "    img = Contrast()(img, mag=0)  # mag=0일때 가장 덜 적용됨\n",
    "    \n",
    "    # 파일 저장\n",
    "    file_name = 'image_' + str(i + 300000 + 16000*1) + '.png'\n",
    "    img.save('/home/cuai5th/CUAI_2022/KWAKsumin/OCR/data_transformed/train_aug/images/' + file_name, 'png')\n",
    "    \n",
    "    # df에 추가\n",
    "    file_path = 'images/' + file_name\n",
    "    df.loc[len(df) + 1] = [file_path, df_co.iloc[i][1]]"
   ]
  },
  {
   "cell_type": "code",
   "execution_count": 10,
   "id": "9166ef2e",
   "metadata": {},
   "outputs": [
    {
     "data": {
      "image/png": "[encoded data removed]",
      "text/plain": [
       "<PIL.PngImagePlugin.PngImageFile image mode=RGB size=50x64>"
      ]
     },
     "execution_count": 10,
     "metadata": {},
     "output_type": "execute_result"
    }
   ],
   "source": [
    "Image.open('/home/cuai5th/CUAI_2022/KWAKsumin/OCR/data_transformed/train_aug/images/image_316999.png')"
   ]
  },
  {
   "cell_type": "markdown",
   "id": "390eb558",
   "metadata": {},
   "source": [
    "# Brightness"
   ]
  },
  {
   "cell_type": "code",
   "execution_count": 11,
   "id": "a5cc3adf",
   "metadata": {},
   "outputs": [
    {
     "name": "stderr",
     "output_type": "stream",
     "text": [
      "100%|█████████████████████████████████████████████████████████████████████████████| 16000/16000 [04:00<00:00, 66.50it/s]\n"
     ]
    }
   ],
   "source": [
    "for i in tqdm(range(len(df_br))):\n",
    "    \n",
    "    # 파일 불러오기\n",
    "    img = Image.open('/home/cuai5th/CUAI_2022/KWAKsumin/OCR/data_transformed/train_aug/' + df_br['img_path'].iloc[i])\n",
    "    \n",
    "    # augmentation\n",
    "    img = Brightness()(img, mag=1) \n",
    "    \n",
    "    # 파일 저장. \n",
    "    file_name = 'image_' + str(i + 300000 + 16000*2) + '.png'\n",
    "    img.save('//home/cuai5th/CUAI_2022/KWAKsumin/OCR/data_transformed/train_aug/images/' + file_name, 'png')\n",
    "    \n",
    "    # df에 추가\n",
    "    file_path = 'images/' + file_name\n",
    "    df.loc[len(df) + 1] = [file_path, df_br.iloc[i][1]]"
   ]
  },
  {
   "cell_type": "code",
   "execution_count": 12,
   "id": "44f198e3",
   "metadata": {},
   "outputs": [
    {
     "data": {
      "image/png": "[encoded data removed]",
      "text/plain": [
       "<PIL.PngImagePlugin.PngImageFile image mode=RGB size=198x64>"
      ]
     },
     "execution_count": 12,
     "metadata": {},
     "output_type": "execute_result"
    }
   ],
   "source": [
    "Image.open('/home/cuai5th/CUAI_2022/KWAKsumin/OCR/data_transformed/train_aug/images/image_333999.png')"
   ]
  },
  {
   "cell_type": "markdown",
   "id": "55e79359",
   "metadata": {},
   "source": [
    "# Pixelate"
   ]
  },
  {
   "cell_type": "code",
   "execution_count": 13,
   "id": "5fcecf01",
   "metadata": {},
   "outputs": [
    {
     "name": "stderr",
     "output_type": "stream",
     "text": [
      "100%|█████████████████████████████████████████████████████████████████████████████| 16000/16000 [03:03<00:00, 87.08it/s]\n"
     ]
    }
   ],
   "source": [
    "for i in tqdm(range(len(df_pi))):\n",
    "    \n",
    "    # 파일 불러오기\n",
    "    img = Image.open('/home/cuai5th/CUAI_2022/KWAKsumin/OCR/data_transformed/train_aug/' + df_pi['img_path'].iloc[i])\n",
    "    \n",
    "    # augmentation\n",
    "    img = Pixelate()(img) \n",
    "    \n",
    "    # 파일 저장. 파일명 숫자 224000 ~ 232000-1\n",
    "    file_name = 'image_' + str(i + 300000 + 16000*3) + '.png'\n",
    "    img.save('/home/cuai5th/CUAI_2022/KWAKsumin/OCR/data_transformed/train_aug/images/' + file_name, 'png')\n",
    "    \n",
    "    # df에 추가\n",
    "    file_path = 'images/' + file_name\n",
    "    df.loc[len(df) + 1] = [file_path, df_pi.iloc[i][1]]"
   ]
  },
  {
   "cell_type": "code",
   "execution_count": 14,
   "id": "86683f22",
   "metadata": {},
   "outputs": [
    {
     "data": {
      "image/png": "[encoded data removed]",
      "text/plain": [
       "<PIL.PngImagePlugin.PngImageFile image mode=RGB size=46x64>"
      ]
     },
     "execution_count": 14,
     "metadata": {},
     "output_type": "execute_result"
    }
   ],
   "source": [
    "Image.open('/home/cuai5th/CUAI_2022/KWAKsumin/OCR/data_transformed/train_aug/images/image_350000.png')"
   ]
  },
  {
   "cell_type": "markdown",
   "id": "db2f7c51",
   "metadata": {},
   "source": [
    "# GaussianBlur"
   ]
  },
  {
   "cell_type": "code",
   "execution_count": 15,
   "id": "ca20a325",
   "metadata": {},
   "outputs": [],
   "source": [
    "import cv2\n",
    "import numpy as np\n",
    "import torchvision.transforms as transforms\n",
    "from PIL import Image, ImageOps\n",
    "from skimage.filters import gaussian\n",
    "\n",
    "class GaussianBlur:\n",
    "    def __init__(self, rng=None):\n",
    "        self.rng = np.random.default_rng() if rng is None else rng\n",
    "\n",
    "    def __call__(self, img, mag=-1, prob=1.):\n",
    "        if self.rng.uniform(0, 1) > prob:\n",
    "            return img\n",
    "\n",
    "        w, h = img.size\n",
    "        # kernel = [(31,31)] prev 1 level only\n",
    "        ksize = int(min(w, h) / 2) // 4\n",
    "        ksize = (ksize * 2) + 1\n",
    "        kernel = (ksize, ksize)\n",
    "        sigmas = [.5, 1, 2]\n",
    "        if mag < 0 or mag >= len(sigmas):\n",
    "            index = self.rng.integers(0, len(sigmas))\n",
    "        else:\n",
    "            index = mag\n",
    "\n",
    "        sigma = sigmas[index]\n",
    "        return transforms.GaussianBlur(kernel_size=kernel, sigma=sigma)(img)"
   ]
  },
  {
   "cell_type": "code",
   "execution_count": 16,
   "id": "327ec2f4",
   "metadata": {},
   "outputs": [
    {
     "name": "stderr",
     "output_type": "stream",
     "text": [
      "100%|█████████████████████████████████████████████████████████████████████████████| 16000/16000 [10:48<00:00, 24.69it/s]\n"
     ]
    }
   ],
   "source": [
    "for i in tqdm(range(len(df_bl))):\n",
    "    \n",
    "    # 파일 불러오기\n",
    "    img = Image.open('/home/cuai5th/CUAI_2022/KWAKsumin/OCR/data_transformed/train_aug/' + df_bl['img_path'].iloc[i])\n",
    "    \n",
    "    # augmentation\n",
    "    img = GaussianBlur()(img) \n",
    "    \n",
    "    # 파일 저장. 파일명 숫자 232000 ~ 240000-1\n",
    "    file_name = 'image_' + str(i + 300000 + 16000*4) + '.png'\n",
    "    img.save('/home/cuai5th/CUAI_2022/KWAKsumin/OCR/data_transformed/train_aug/images/' + file_name, 'png')\n",
    "    \n",
    "    # df에 추가\n",
    "    file_path = 'images/' + file_name\n",
    "    df.loc[len(df) + 1] = [file_path, df_bl.iloc[i][1]]"
   ]
  },
  {
   "cell_type": "code",
   "execution_count": 17,
   "id": "d7f448fc",
   "metadata": {},
   "outputs": [
    {
     "data": {
      "image/png": "[encoded data removed]",
      "text/plain": [
       "<PIL.PngImagePlugin.PngImageFile image mode=RGB size=58x64>"
      ]
     },
     "execution_count": 17,
     "metadata": {},
     "output_type": "execute_result"
    }
   ],
   "source": [
    "Image.open('/home/cuai5th/CUAI_2022/KWAKsumin/OCR/data_transformed/train_aug/images/image_369999.png')"
   ]
  },
  {
   "cell_type": "code",
   "execution_count": 18,
   "id": "df8fe7fe",
   "metadata": {},
   "outputs": [
    {
     "name": "stdout",
     "output_type": "stream",
     "text": [
      "<class 'pandas.core.frame.DataFrame'>\n",
      "Int64Index: 162944 entries, 0 to 162944\n",
      "Data columns (total 2 columns):\n",
      " #   Column    Non-Null Count   Dtype \n",
      "---  ------    --------------   ----- \n",
      " 0   img_path  162944 non-null  object\n",
      " 1   label     162944 non-null  object\n",
      "dtypes: object(2)\n",
      "memory usage: 3.7+ MB\n"
     ]
    }
   ],
   "source": [
    "df.info()"
   ]
  },
  {
   "cell_type": "code",
   "execution_count": 19,
   "id": "362bf7db",
   "metadata": {},
   "outputs": [
    {
     "data": {
      "text/html": [
       "<div>\n",
       "<style scoped>\n",
       "    .dataframe tbody tr th:only-of-type {\n",
       "        vertical-align: middle;\n",
       "    }\n",
       "\n",
       "    .dataframe tbody tr th {\n",
       "        vertical-align: top;\n",
       "    }\n",
       "\n",
       "    .dataframe thead th {\n",
       "        text-align: right;\n",
       "    }\n",
       "</style>\n",
       "<table border=\"1\" class=\"dataframe\">\n",
       "  <thead>\n",
       "    <tr style=\"text-align: right;\">\n",
       "      <th></th>\n",
       "      <th>img_path</th>\n",
       "      <th>label</th>\n",
       "    </tr>\n",
       "  </thead>\n",
       "  <tbody>\n",
       "    <tr>\n",
       "      <th>0</th>\n",
       "      <td>images/image_031251.png</td>\n",
       "      <td>넣</td>\n",
       "    </tr>\n",
       "    <tr>\n",
       "      <th>1</th>\n",
       "      <td>images/image_215487.png</td>\n",
       "      <td>위쪽</td>\n",
       "    </tr>\n",
       "    <tr>\n",
       "      <th>2</th>\n",
       "      <td>images/image_222170.png</td>\n",
       "      <td>장국수</td>\n",
       "    </tr>\n",
       "    <tr>\n",
       "      <th>3</th>\n",
       "      <td>images/image_274214.png</td>\n",
       "      <td>추천하다</td>\n",
       "    </tr>\n",
       "    <tr>\n",
       "      <th>4</th>\n",
       "      <td>images/image_211616.png</td>\n",
       "      <td>자</td>\n",
       "    </tr>\n",
       "    <tr>\n",
       "      <th>...</th>\n",
       "      <td>...</td>\n",
       "      <td>...</td>\n",
       "    </tr>\n",
       "    <tr>\n",
       "      <th>42936</th>\n",
       "      <td>images/image_075016.png</td>\n",
       "      <td>코스모스</td>\n",
       "    </tr>\n",
       "    <tr>\n",
       "      <th>114334</th>\n",
       "      <td>images/image_101942.png</td>\n",
       "      <td>다초보자</td>\n",
       "    </tr>\n",
       "    <tr>\n",
       "      <th>43225</th>\n",
       "      <td>images/image_075753.png</td>\n",
       "      <td>흘러나오다</td>\n",
       "    </tr>\n",
       "    <tr>\n",
       "      <th>95162</th>\n",
       "      <td>images/image_106185.png</td>\n",
       "      <td>연합마음대로</td>\n",
       "    </tr>\n",
       "    <tr>\n",
       "      <th>76371</th>\n",
       "      <td>images/image_025323.png</td>\n",
       "      <td>문제되다</td>\n",
       "    </tr>\n",
       "  </tbody>\n",
       "</table>\n",
       "<p>242944 rows × 2 columns</p>\n",
       "</div>"
      ],
      "text/plain": [
       "                       img_path   label\n",
       "0       images/image_031251.png       넣\n",
       "1       images/image_215487.png      위쪽\n",
       "2       images/image_222170.png     장국수\n",
       "3       images/image_274214.png    추천하다\n",
       "4       images/image_211616.png       자\n",
       "...                         ...     ...\n",
       "42936   images/image_075016.png    코스모스\n",
       "114334  images/image_101942.png    다초보자\n",
       "43225   images/image_075753.png   흘러나오다\n",
       "95162   images/image_106185.png  연합마음대로\n",
       "76371   images/image_025323.png    문제되다\n",
       "\n",
       "[242944 rows x 2 columns]"
      ]
     },
     "execution_count": 19,
     "metadata": {},
     "output_type": "execute_result"
    }
   ],
   "source": [
    "# df 모두 합치기\n",
    "df = pd.concat([df, df_no, df_br, df_bl, df_co, df_pi])\n",
    "df"
   ]
  },
  {
   "cell_type": "code",
   "execution_count": 20,
   "id": "d18fd0b1",
   "metadata": {},
   "outputs": [
    {
     "data": {
      "text/html": [
       "<div>\n",
       "<style scoped>\n",
       "    .dataframe tbody tr th:only-of-type {\n",
       "        vertical-align: middle;\n",
       "    }\n",
       "\n",
       "    .dataframe tbody tr th {\n",
       "        vertical-align: top;\n",
       "    }\n",
       "\n",
       "    .dataframe thead th {\n",
       "        text-align: right;\n",
       "    }\n",
       "</style>\n",
       "<table border=\"1\" class=\"dataframe\">\n",
       "  <thead>\n",
       "    <tr style=\"text-align: right;\">\n",
       "      <th></th>\n",
       "      <th>img_path</th>\n",
       "      <th>label</th>\n",
       "    </tr>\n",
       "  </thead>\n",
       "  <tbody>\n",
       "    <tr>\n",
       "      <th>0</th>\n",
       "      <td>images/image_267649.png</td>\n",
       "      <td>언덕</td>\n",
       "    </tr>\n",
       "    <tr>\n",
       "      <th>1</th>\n",
       "      <td>images/image_030293.png</td>\n",
       "      <td>식당</td>\n",
       "    </tr>\n",
       "    <tr>\n",
       "      <th>2</th>\n",
       "      <td>images/image_368806.png</td>\n",
       "      <td>여우</td>\n",
       "    </tr>\n",
       "    <tr>\n",
       "      <th>3</th>\n",
       "      <td>images/image_337691.png</td>\n",
       "      <td>퇴직금</td>\n",
       "    </tr>\n",
       "    <tr>\n",
       "      <th>4</th>\n",
       "      <td>images/image_011105.png</td>\n",
       "      <td>바</td>\n",
       "    </tr>\n",
       "    <tr>\n",
       "      <th>...</th>\n",
       "      <td>...</td>\n",
       "      <td>...</td>\n",
       "    </tr>\n",
       "    <tr>\n",
       "      <th>242939</th>\n",
       "      <td>images/image_209320.png</td>\n",
       "      <td>펏</td>\n",
       "    </tr>\n",
       "    <tr>\n",
       "      <th>242940</th>\n",
       "      <td>images/image_216046.png</td>\n",
       "      <td>제공죠</td>\n",
       "    </tr>\n",
       "    <tr>\n",
       "      <th>242941</th>\n",
       "      <td>images/image_205466.png</td>\n",
       "      <td>얼음</td>\n",
       "    </tr>\n",
       "    <tr>\n",
       "      <th>242942</th>\n",
       "      <td>images/image_240077.png</td>\n",
       "      <td>아래층</td>\n",
       "    </tr>\n",
       "    <tr>\n",
       "      <th>242943</th>\n",
       "      <td>images/image_365512.png</td>\n",
       "      <td>광장</td>\n",
       "    </tr>\n",
       "  </tbody>\n",
       "</table>\n",
       "<p>242944 rows × 2 columns</p>\n",
       "</div>"
      ],
      "text/plain": [
       "                       img_path label\n",
       "0       images/image_267649.png    언덕\n",
       "1       images/image_030293.png    식당\n",
       "2       images/image_368806.png    여우\n",
       "3       images/image_337691.png   퇴직금\n",
       "4       images/image_011105.png     바\n",
       "...                         ...   ...\n",
       "242939  images/image_209320.png     펏\n",
       "242940  images/image_216046.png   제공죠\n",
       "242941  images/image_205466.png    얼음\n",
       "242942  images/image_240077.png   아래층\n",
       "242943  images/image_365512.png    광장\n",
       "\n",
       "[242944 rows x 2 columns]"
      ]
     },
     "execution_count": 20,
     "metadata": {},
     "output_type": "execute_result"
    }
   ],
   "source": [
    "# 순서 섞기\n",
    "df = df.sample(frac=1).reset_index(drop=True)\n",
    "df"
   ]
  },
  {
   "cell_type": "code",
   "execution_count": 21,
   "id": "e94c2e26",
   "metadata": {
    "scrolled": true
   },
   "outputs": [],
   "source": [
    "# df를 text 파일로 저장\n",
    "df.to_csv('gt.txt',header=None,index=False,sep='\\t') ## 구분자를 탭으로 하여 저장. 인덱스칼럼은 저장 안함."
   ]
  },
  {
   "cell_type": "code",
   "execution_count": 22,
   "id": "f8faacb5",
   "metadata": {},
   "outputs": [
    {
     "name": "stdout",
     "output_type": "stream",
     "text": [
      "/home/cuai5th/CUAI_2022/KWAKsumin/OCR\n"
     ]
    }
   ],
   "source": [
    "%cd /home/cuai5th/CUAI_2022/KWAKsumin/OCR"
   ]
  },
  {
   "cell_type": "code",
   "execution_count": 23,
   "id": "4e6507e9",
   "metadata": {
    "scrolled": true
   },
   "outputs": [
    {
     "name": "stdout",
     "output_type": "stream",
     "text": [
      "Written 1000 / 242944\n",
      "Written 2000 / 242944\n",
      "Written 3000 / 242944\n",
      "Written 4000 / 242944\n",
      "Written 5000 / 242944\n",
      "Written 6000 / 242944\n",
      "Written 7000 / 242944\n",
      "Written 8000 / 242944\n",
      "Written 9000 / 242944\n",
      "Written 10000 / 242944\n",
      "Written 11000 / 242944\n",
      "Written 12000 / 242944\n",
      "Written 13000 / 242944\n",
      "Written 14000 / 242944\n",
      "Written 15000 / 242944\n",
      "Written 16000 / 242944\n",
      "Written 17000 / 242944\n",
      "Written 18000 / 242944\n",
      "Written 19000 / 242944\n",
      "Written 20000 / 242944\n",
      "Written 21000 / 242944\n",
      "Written 22000 / 242944\n",
      "Written 23000 / 242944\n",
      "Written 24000 / 242944\n",
      "Written 25000 / 242944\n",
      "Written 26000 / 242944\n",
      "Written 27000 / 242944\n",
      "Written 28000 / 242944\n",
      "Written 29000 / 242944\n",
      "Written 30000 / 242944\n",
      "Written 31000 / 242944\n",
      "Written 32000 / 242944\n",
      "Written 33000 / 242944\n",
      "Written 34000 / 242944\n",
      "Written 35000 / 242944\n",
      "Written 36000 / 242944\n",
      "Written 37000 / 242944\n",
      "Written 38000 / 242944\n",
      "Written 39000 / 242944\n",
      "Written 40000 / 242944\n",
      "Written 41000 / 242944\n",
      "Written 42000 / 242944\n",
      "Written 43000 / 242944\n",
      "Written 44000 / 242944\n",
      "Written 45000 / 242944\n",
      "Written 46000 / 242944\n",
      "Written 47000 / 242944\n",
      "Written 48000 / 242944\n",
      "Written 49000 / 242944\n",
      "Written 50000 / 242944\n",
      "Written 51000 / 242944\n",
      "Written 52000 / 242944\n",
      "Written 53000 / 242944\n",
      "Written 54000 / 242944\n",
      "Written 55000 / 242944\n",
      "Written 56000 / 242944\n",
      "Written 57000 / 242944\n",
      "Written 58000 / 242944\n",
      "Written 59000 / 242944\n",
      "Written 60000 / 242944\n",
      "Written 61000 / 242944\n",
      "Written 62000 / 242944\n",
      "Written 63000 / 242944\n",
      "Written 64000 / 242944\n",
      "Written 65000 / 242944\n",
      "Written 66000 / 242944\n",
      "Written 67000 / 242944\n",
      "Written 68000 / 242944\n",
      "Written 69000 / 242944\n",
      "Written 70000 / 242944\n",
      "Written 71000 / 242944\n",
      "Written 72000 / 242944\n",
      "Written 73000 / 242944\n",
      "Written 74000 / 242944\n",
      "Written 75000 / 242944\n",
      "Written 76000 / 242944\n",
      "Written 77000 / 242944\n",
      "Written 78000 / 242944\n",
      "Written 79000 / 242944\n",
      "Written 80000 / 242944\n",
      "Written 81000 / 242944\n",
      "Written 82000 / 242944\n",
      "Written 83000 / 242944\n",
      "Written 84000 / 242944\n",
      "Written 85000 / 242944\n",
      "Written 86000 / 242944\n",
      "Written 87000 / 242944\n",
      "Written 88000 / 242944\n",
      "Written 89000 / 242944\n",
      "Written 90000 / 242944\n",
      "Written 91000 / 242944\n",
      "Written 92000 / 242944\n",
      "Written 93000 / 242944\n",
      "Written 94000 / 242944\n",
      "Written 95000 / 242944\n",
      "Written 96000 / 242944\n",
      "Written 97000 / 242944\n",
      "Written 98000 / 242944\n",
      "Written 99000 / 242944\n",
      "Written 100000 / 242944\n",
      "Written 101000 / 242944\n",
      "Written 102000 / 242944\n",
      "Written 103000 / 242944\n",
      "Written 104000 / 242944\n",
      "Written 105000 / 242944\n",
      "Written 106000 / 242944\n",
      "Written 107000 / 242944\n",
      "Written 108000 / 242944\n",
      "Written 109000 / 242944\n",
      "Written 110000 / 242944\n",
      "Written 111000 / 242944\n",
      "Written 112000 / 242944\n",
      "Written 113000 / 242944\n",
      "Written 114000 / 242944\n",
      "Written 115000 / 242944\n",
      "Written 116000 / 242944\n",
      "Written 117000 / 242944\n",
      "Written 118000 / 242944\n",
      "Written 119000 / 242944\n",
      "Written 120000 / 242944\n",
      "Written 121000 / 242944\n",
      "Written 122000 / 242944\n",
      "Written 123000 / 242944\n",
      "Written 124000 / 242944\n",
      "Written 125000 / 242944\n",
      "Written 126000 / 242944\n",
      "Written 127000 / 242944\n",
      "Written 128000 / 242944\n",
      "Written 129000 / 242944\n",
      "Written 130000 / 242944\n",
      "Written 131000 / 242944\n",
      "Written 132000 / 242944\n",
      "Written 133000 / 242944\n",
      "Written 134000 / 242944\n",
      "Written 135000 / 242944\n",
      "Written 136000 / 242944\n",
      "Written 137000 / 242944\n",
      "Written 138000 / 242944\n",
      "Written 139000 / 242944\n",
      "Written 140000 / 242944\n",
      "Written 141000 / 242944\n",
      "Written 142000 / 242944\n",
      "Written 143000 / 242944\n",
      "Written 144000 / 242944\n",
      "Written 145000 / 242944\n",
      "Written 146000 / 242944\n",
      "Written 147000 / 242944\n",
      "Written 148000 / 242944\n",
      "Written 149000 / 242944\n",
      "Written 150000 / 242944\n",
      "Written 151000 / 242944\n",
      "Written 152000 / 242944\n",
      "Written 153000 / 242944\n",
      "Written 154000 / 242944\n",
      "Written 155000 / 242944\n",
      "Written 156000 / 242944\n",
      "Written 157000 / 242944\n",
      "Written 158000 / 242944\n",
      "Written 159000 / 242944\n",
      "Written 160000 / 242944\n",
      "Written 161000 / 242944\n",
      "Written 162000 / 242944\n",
      "Written 163000 / 242944\n",
      "Written 164000 / 242944\n",
      "Written 165000 / 242944\n",
      "Written 166000 / 242944\n",
      "Written 167000 / 242944\n",
      "Written 168000 / 242944\n",
      "Written 169000 / 242944\n",
      "Written 170000 / 242944\n",
      "Written 171000 / 242944\n",
      "Written 172000 / 242944\n",
      "Written 173000 / 242944\n",
      "Written 174000 / 242944\n",
      "Written 175000 / 242944\n",
      "Written 176000 / 242944\n",
      "Written 177000 / 242944\n",
      "Written 178000 / 242944\n",
      "Written 179000 / 242944\n",
      "Written 180000 / 242944\n",
      "Written 181000 / 242944\n",
      "Written 182000 / 242944\n",
      "Written 183000 / 242944\n",
      "Written 184000 / 242944\n",
      "Written 185000 / 242944\n",
      "Written 186000 / 242944\n",
      "Written 187000 / 242944\n",
      "Written 188000 / 242944\n",
      "Written 189000 / 242944\n",
      "Written 190000 / 242944\n",
      "Written 191000 / 242944\n",
      "Written 192000 / 242944\n",
      "Written 193000 / 242944\n",
      "Written 194000 / 242944\n",
      "Written 195000 / 242944\n",
      "Written 196000 / 242944\n",
      "Written 197000 / 242944\n",
      "Written 198000 / 242944\n",
      "Written 199000 / 242944\n",
      "Written 200000 / 242944\n",
      "Written 201000 / 242944\n",
      "Written 202000 / 242944\n",
      "Written 203000 / 242944\n",
      "Written 204000 / 242944\n",
      "Written 205000 / 242944\n",
      "Written 206000 / 242944\n",
      "Written 207000 / 242944\n",
      "Written 208000 / 242944\n",
      "Written 209000 / 242944\n",
      "Written 210000 / 242944\n",
      "Written 211000 / 242944\n",
      "Written 212000 / 242944\n",
      "Written 213000 / 242944\n",
      "Written 214000 / 242944\n",
      "Written 215000 / 242944\n",
      "Written 216000 / 242944\n",
      "Written 217000 / 242944\n",
      "Written 218000 / 242944\n",
      "Written 219000 / 242944\n",
      "Written 220000 / 242944\n",
      "Written 221000 / 242944\n",
      "Written 222000 / 242944\n",
      "Written 223000 / 242944\n",
      "Written 224000 / 242944\n",
      "Written 225000 / 242944\n",
      "Written 226000 / 242944\n",
      "Written 227000 / 242944\n",
      "Written 228000 / 242944\n",
      "Written 229000 / 242944\n",
      "Written 230000 / 242944\n",
      "Written 231000 / 242944\n",
      "Written 232000 / 242944\n",
      "Written 233000 / 242944\n",
      "Written 234000 / 242944\n",
      "Written 235000 / 242944\n",
      "Written 236000 / 242944\n",
      "Written 237000 / 242944\n",
      "Written 238000 / 242944\n",
      "Written 239000 / 242944\n",
      "Written 240000 / 242944\n",
      "Written 241000 / 242944\n",
      "Written 242000 / 242944\n",
      "Created dataset with 242944 samples\n"
     ]
    }
   ],
   "source": [
    "!python3 deep-text-recognition/create_lmdb_dataset.py \\\n",
    "        --inputPath data_transformed/train_aug \\\n",
    "        --gtFile data_transformed/train_aug/gt.txt \\\n",
    "        --outputPath deep/data_ocr/training/kordata"
   ]
  }
 ],
 "metadata": {
  "kernelspec": {
   "display_name": "Python 3 (ipykernel)",
   "language": "python",
   "name": "python3"
  },
  "language_info": {
   "codemirror_mode": {
    "name": "ipython",
    "version": 3
   },
   "file_extension": ".py",
   "mimetype": "text/x-python",
   "name": "python",
   "nbconvert_exporter": "python",
   "pygments_lexer": "ipython3",
   "version": "3.9.12"
  }
 },
 "nbformat": 4,
 "nbformat_minor": 5
}
